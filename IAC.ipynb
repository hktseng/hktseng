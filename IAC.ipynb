{
 "cells": [
  {
   "cell_type": "code",
   "execution_count": 1,
   "metadata": {},
   "outputs": [
    {
     "name": "stdout",
     "output_type": "stream",
     "text": [
      "Collecting package metadata (repodata.json): ...working... done\n",
      "Solving environment: ...working... done\n",
      "\n",
      "# All requested packages already installed.\n",
      "\n",
      "Collecting package metadata (repodata.json): ...working... done\n",
      "Solving environment: ...working... done\n",
      "\n",
      "# All requested packages already installed.\n",
      "\n"
     ]
    }
   ],
   "source": [
    "!conda install -c conda-forge tensorflow --yes\n",
    "!conda install -c conda-forge keras --yes"
   ]
  },
  {
   "cell_type": "code",
   "execution_count": 2,
   "metadata": {},
   "outputs": [
    {
     "name": "stdout",
     "output_type": "stream",
     "text": [
      "<class 'pandas.core.frame.DataFrame'>\n",
      "Int64Index: 289 entries, 0 to 372\n",
      "Data columns (total 3 columns):\n",
      "note        289 non-null object\n",
      "transfer    289 non-null object\n",
      "form        289 non-null object\n",
      "dtypes: object(3)\n",
      "memory usage: 9.0+ KB\n",
      "                                                note  transfer           form\n",
      "0  UK is the sole tier-1 partner (defined by the ...  Capacity  codevelopment\n",
      "1  Italy is one of the two tier-2 partner, its Pr...  Capacity  codevelopment\n",
      "2  Netherlands  is one of the two tier-2 partner,...  Capacity  codevelopment\n",
      "3  Australia is one of the 5 tier-3 partners. Aus...    Design   coproduction\n",
      "4  Canada is one of the 5 tier-3 partners. Canadi...    Design   coproduction\n",
      "5  Denmark is one of the 5 tier-3 partners. Danis...    Design   coproduction\n",
      "6  Norway is one of the 5 tier-3 partners. Norweg...    Design   coproduction\n",
      "7  Turkey is one of the 5 tier-3 partners. Turkis...    Design   coproduction\n",
      "8  Israel has joined the F-35 Joint Strike Fighte...  Material            FMS\n",
      "9  On 16 March 2004 Singapore signed the Letter o...  Material            FMS\n",
      "48359\n"
     ]
    }
   ],
   "source": [
    "import logging\n",
    "import pandas as pd\n",
    "import numpy as np\n",
    "from numpy import random\n",
    "import gensim\n",
    "import nltk\n",
    "from sklearn.model_selection import train_test_split\n",
    "from sklearn.feature_extraction.text import CountVectorizer, TfidfVectorizer\n",
    "from sklearn.metrics import accuracy_score, confusion_matrix\n",
    "import matplotlib.pyplot as plt\n",
    "from nltk.corpus import stopwords\n",
    "import re\n",
    "from bs4 import BeautifulSoup\n",
    "%matplotlib inline\n",
    "\n",
    "df = pd.read_csv(r\"C:\\Users\\hktse\\Documents\\IAC\\IAC_network1.csv\", encoding='ISO-8859-1')\n",
    "df.shape\n",
    "\n",
    "\n",
    "# Get names of indexes for which column ccode has value 0.0\n",
    "indexNames = df[df['ccode'] == 0.].index\n",
    "\n",
    "# Delete these row indexes from dataFrame\n",
    "df.drop(indexNames , inplace=True)\n",
    "df.shape\n",
    "\n",
    "def cell_recode(series):\n",
    "    if series == 1:\n",
    "        return \"Material\"\n",
    "    elif series == 2:\n",
    "        return \"Design\"\n",
    "    elif series == 3:\n",
    "        return \"Capacity\"\n",
    "\n",
    "df['transfer'] = df['transfer_type'].apply(cell_recode)\n",
    "\n",
    "df = df[['note', 'transfer', 'form']]\n",
    "\n",
    "\n",
    "df.info()\n",
    "\n",
    "print(df.head(10))\n",
    "print(df['note'].apply(lambda x: len(x.split(' '))).sum())"
   ]
  },
  {
   "cell_type": "code",
   "execution_count": 3,
   "metadata": {},
   "outputs": [
    {
     "data": {
      "image/png": "[encoded data removed]",
      "text/plain": [
       "<Figure size 720x288 with 1 Axes>"
      ]
     },
     "metadata": {
      "needs_background": "light"
     },
     "output_type": "display_data"
    }
   ],
   "source": [
    "my_tags = ['acquisitions','alliance','codevelopment','consortium','coproduction','family of weapons','FMS','joint venture','licensing','sourcing','subcontracting','teaming']\n",
    "plt.figure(figsize=(10,4))\n",
    "df.form.value_counts().plot(kind='bar');"
   ]
  },
  {
   "cell_type": "code",
   "execution_count": 4,
   "metadata": {},
   "outputs": [
    {
     "data": {
      "image/png": "[encoded data removed]",
      "text/plain": [
       "<Figure size 216x288 with 1 Axes>"
      ]
     },
     "metadata": {
      "needs_background": "light"
     },
     "output_type": "display_data"
    }
   ],
   "source": [
    "my_tags = ['Material','Capacity','Design']\n",
    "plt.figure(figsize=(3,4))\n",
    "df.transfer.value_counts().plot(kind='bar');"
   ]
  },
  {
   "cell_type": "code",
   "execution_count": 5,
   "metadata": {},
   "outputs": [
    {
     "name": "stdout",
     "output_type": "stream",
     "text": [
      "Lockheed Martin is working with Mitsubishi Heavy Industries on a local final assembly and checkout line for the F-35 Lightning II. The first Japanese-produced F-35 is scheduled to roll off Mitsubishis Nagoya line in 2017, says John Balderson, director of Japan F-35 business development for Lockheed Martin. We are greatly honoured that Japan chose the F-35, he adds, speaking to Flightglobal on the sidelines of the Japan Aerospace show in Nagoya. We have tremendous faith in their industry. Last December, Tokyo selected the F-35 in its F-X competition for 42 aircraft to replace its obsolescent McDonnell Douglas F-4 Phantoms. The stealthy type won the bid against competitors Boeing F/A-18 E/F Super Hornet and the Eurofighter Typhoon.\n",
      "Tag: Design\n"
     ]
    }
   ],
   "source": [
    "def print_plot(index):\n",
    "    example = df[df.index == index][['note', 'transfer']].values[0]\n",
    "    if len(example) > 0:\n",
    "        print(example[0])\n",
    "        print('Tag:', example[1])\n",
    "print_plot(10)"
   ]
  },
  {
   "cell_type": "code",
   "execution_count": 6,
   "metadata": {},
   "outputs": [
    {
     "name": "stdout",
     "output_type": "stream",
     "text": [
      "lockheed martin working mitsubishi heavy industries local final assembly checkout line f35 lightning ii first japaneseproduced f35 scheduled roll mitsubishis nagoya line 2017 says john balderson director japan f35 business development lockheed martin greatly honoured japan chose f35 adds speaking flightglobal sidelines japan aerospace show nagoya tremendous faith industry last december tokyo selected f35 fx competition 42 aircraft replace obsolescent mcdonnell douglas f4 phantoms stealthy type bid competitors boeing f a18 e f super hornet eurofighter typhoon\n",
      "Tag: Design\n"
     ]
    }
   ],
   "source": [
    "REPLACE_BY_SPACE_RE = re.compile('[/(){}\\[\\]\\|@,;]')\n",
    "BAD_SYMBOLS_RE = re.compile('[^0-9a-z #+_]')\n",
    "STOPWORDS = set(stopwords.words('english'))\n",
    "\n",
    "def clean_text(text):\n",
    "    \"\"\"\n",
    "        text: a string\n",
    "        \n",
    "        return: modified initial string\n",
    "    \"\"\"\n",
    "    text = BeautifulSoup(text, \"lxml\").text # HTML decoding\n",
    "    text = text.lower() # lowercase text\n",
    "    text = REPLACE_BY_SPACE_RE.sub(' ', text) # replace REPLACE_BY_SPACE_RE symbols by space in text\n",
    "    text = BAD_SYMBOLS_RE.sub('', text) # delete symbols which are in BAD_SYMBOLS_RE from text\n",
    "    text = ' '.join(word for word in text.split() if word not in STOPWORDS) # delete stopwors from text\n",
    "    return text\n",
    "    \n",
    "df['note'] = df['note'].apply(clean_text)\n",
    "print_plot(10)"
   ]
  },
  {
   "cell_type": "code",
   "execution_count": 7,
   "metadata": {},
   "outputs": [
    {
     "data": {
      "text/plain": [
       "31783"
      ]
     },
     "execution_count": 7,
     "metadata": {},
     "output_type": "execute_result"
    }
   ],
   "source": [
    "df['note'].apply(lambda x: len(x.split(' '))).sum()"
   ]
  },
  {
   "cell_type": "code",
   "execution_count": 34,
   "metadata": {},
   "outputs": [],
   "source": [
    "X = df.note\n",
    "y = df.transfer\n",
    "X_train, X_test, y_train, y_test = train_test_split(X, y, test_size=0.25, random_state = 42)"
   ]
  },
  {
   "cell_type": "code",
   "execution_count": 35,
   "metadata": {},
   "outputs": [
    {
     "name": "stdout",
     "output_type": "stream",
     "text": [
      "accuracy 0.6712328767123288\n",
      "              precision    recall  f1-score   support\n",
      "\n",
      "    Material       1.00      0.50      0.67        20\n",
      "    Capacity       0.59      0.97      0.73        30\n",
      "      Design       0.71      0.43      0.54        23\n",
      "\n",
      "   micro avg       0.67      0.67      0.67        73\n",
      "   macro avg       0.77      0.63      0.65        73\n",
      "weighted avg       0.74      0.67      0.65        73\n",
      "\n"
     ]
    }
   ],
   "source": [
    "from sklearn.naive_bayes import MultinomialNB\n",
    "from sklearn.pipeline import Pipeline\n",
    "from sklearn.feature_extraction.text import TfidfTransformer\n",
    "\n",
    "nb = Pipeline([('vect', CountVectorizer()),\n",
    "               ('tfidf', TfidfTransformer()),\n",
    "               ('clf', MultinomialNB()),\n",
    "              ])\n",
    "nb.fit(X_train, y_train)\n",
    "\n",
    "\n",
    "from sklearn.metrics import classification_report\n",
    "y_pred = nb.predict(X_test)\n",
    "\n",
    "print('accuracy %s' % accuracy_score(y_pred, y_test))\n",
    "print(classification_report(y_test, y_pred,target_names=my_tags))"
   ]
  },
  {
   "cell_type": "code",
   "execution_count": 36,
   "metadata": {},
   "outputs": [
    {
     "name": "stdout",
     "output_type": "stream",
     "text": [
      "accuracy 0.5753424657534246\n",
      "              precision    recall  f1-score   support\n",
      "\n",
      "    Material       0.69      0.55      0.61        20\n",
      "    Capacity       0.56      0.63      0.59        30\n",
      "      Design       0.52      0.52      0.52        23\n",
      "\n",
      "   micro avg       0.58      0.58      0.58        73\n",
      "   macro avg       0.59      0.57      0.58        73\n",
      "weighted avg       0.58      0.58      0.58        73\n",
      "\n"
     ]
    }
   ],
   "source": [
    "from sklearn import svm\n",
    "from sklearn.pipeline import Pipeline\n",
    "from sklearn.feature_extraction.text import TfidfTransformer\n",
    "\n",
    "nb = Pipeline([('vect', CountVectorizer()),\n",
    "               ('tfidf', TfidfTransformer()),\n",
    "               ('clf', svm.LinearSVC()),\n",
    "              ])\n",
    "nb.fit(X_train, y_train)\n",
    "\n",
    "from sklearn.metrics import classification_report\n",
    "y_pred = nb.predict(X_test)\n",
    "\n",
    "print('accuracy %s' % accuracy_score(y_pred, y_test))\n",
    "print(classification_report(y_test, y_pred,target_names=my_tags))"
   ]
  },
  {
   "cell_type": "code",
   "execution_count": 38,
   "metadata": {},
   "outputs": [
    {
     "name": "stdout",
     "output_type": "stream",
     "text": [
      "accuracy 0.5616438356164384\n",
      "              precision    recall  f1-score   support\n",
      "\n",
      "    Material       0.71      0.50      0.59        20\n",
      "    Capacity       0.61      0.63      0.62        30\n",
      "      Design       0.43      0.52      0.47        23\n",
      "\n",
      "   micro avg       0.56      0.56      0.56        73\n",
      "   macro avg       0.59      0.55      0.56        73\n",
      "weighted avg       0.58      0.56      0.57        73\n",
      "\n"
     ]
    }
   ],
   "source": [
    "from sklearn.linear_model import SGDClassifier\n",
    "\n",
    "sgd = Pipeline([('vect', CountVectorizer()),\n",
    "                ('tfidf', TfidfTransformer()),\n",
    "                ('clf', SGDClassifier(loss='hinge', penalty='l2',alpha=1e-3, random_state=42, max_iter=5, tol=None)),\n",
    "               ])\n",
    "\n",
    "sgd.fit(X_train, y_train)\n",
    "\n",
    "\n",
    "y_pred = sgd.predict(X_test)\n",
    "\n",
    "print('accuracy %s' % accuracy_score(y_pred, y_test))\n",
    "print(classification_report(y_test, y_pred,target_names=my_tags))"
   ]
  },
  {
   "cell_type": "code",
   "execution_count": 11,
   "metadata": {},
   "outputs": [
    {
     "name": "stdout",
     "output_type": "stream",
     "text": [
      "accuracy 0.589041095890411\n",
      "              precision    recall  f1-score   support\n",
      "\n",
      "    Material       0.65      0.55      0.59        20\n",
      "    Capacity       0.57      0.67      0.62        30\n",
      "      Design       0.57      0.52      0.55        23\n",
      "\n",
      "   micro avg       0.59      0.59      0.59        73\n",
      "   macro avg       0.60      0.58      0.59        73\n",
      "weighted avg       0.59      0.59      0.59        73\n",
      "\n"
     ]
    },
    {
     "name": "stderr",
     "output_type": "stream",
     "text": [
      "C:\\Users\\hktse\\Anaconda3\\lib\\site-packages\\sklearn\\linear_model\\logistic.py:433: FutureWarning: Default solver will be changed to 'lbfgs' in 0.22. Specify a solver to silence this warning.\n",
      "  FutureWarning)\n",
      "C:\\Users\\hktse\\Anaconda3\\lib\\site-packages\\sklearn\\linear_model\\logistic.py:460: FutureWarning: Default multi_class will be changed to 'auto' in 0.22. Specify the multi_class option to silence this warning.\n",
      "  \"this warning.\", FutureWarning)\n"
     ]
    }
   ],
   "source": [
    "from sklearn.linear_model import LogisticRegression\n",
    "\n",
    "logreg = Pipeline([('vect', CountVectorizer()),\n",
    "                ('tfidf', TfidfTransformer()),\n",
    "                ('clf', LogisticRegression(n_jobs=1, C=1e5)),\n",
    "               ])\n",
    "logreg.fit(X_train, y_train)\n",
    "\n",
    "y_pred = logreg.predict(X_test)\n",
    "\n",
    "print('accuracy %s' % accuracy_score(y_pred, y_test))\n",
    "print(classification_report(y_test, y_pred,target_names=my_tags))"
   ]
  },
  {
   "cell_type": "code",
   "execution_count": null,
   "metadata": {},
   "outputs": [],
   "source": []
  },
  {
   "cell_type": "code",
   "execution_count": 12,
   "metadata": {},
   "outputs": [],
   "source": [
    "add_features = logreg.predict_proba(X)\n",
    "X_add = pd.DataFrame(add_features)\n",
    "new_df = pd.read_csv(r\"C:\\Users\\hktse\\Documents\\IAC\\IAC_network1.csv\", encoding='ISO-8859-1')\n",
    "new_df.drop(indexNames, inplace=True)\n",
    "new_df.shape\n",
    "new_df['interaction'] = new_df['alliance'] * new_df['diff']\n",
    "\n",
    "def cell_recode(series):\n",
    "    if series == 1:\n",
    "        return \"Material\"\n",
    "    elif series == 2:\n",
    "        return \"Design\"\n",
    "    elif series == 3:\n",
    "        return \"Capacity\"\n",
    "\n",
    "new_df['transfer'] = new_df['transfer_type'].apply(cell_recode)\n"
   ]
  },
  {
   "cell_type": "code",
   "execution_count": 13,
   "metadata": {},
   "outputs": [
    {
     "data": {
      "text/plain": [
       "(289, 8)"
      ]
     },
     "execution_count": 13,
     "metadata": {},
     "output_type": "execute_result"
    }
   ],
   "source": [
    "indexNames1 = new_df[np.isnan(new_df['alliance'])].index\n",
    "indexNames2 = new_df[np.isnan(new_df['diff'])].index\n",
    "indexNames3 = new_df[np.isnan(new_df['u_to_v'])].index\n",
    "indexNames4 = new_df[np.isnan(new_df['sign_u_w'])].index\n",
    "indexNames5 = new_df[np.isnan(new_df['interaction'])].index\n",
    "\n",
    "# Delete these row indexes from dataFrame\n",
    "new_df.drop(indexNames1 , inplace=True)\n",
    "new_df.drop(indexNames2 , inplace=True)\n",
    "new_df.drop(indexNames3 , inplace=True)\n",
    "new_df.drop(indexNames4 , inplace=True)\n",
    "new_df.drop(indexNames5 , inplace=True)\n",
    "\n",
    "add_features = logreg.predict_proba(X)\n",
    "X_add = pd.DataFrame(add_features)\n",
    "add_df = new_df[['alliance', 'diff', 'interaction', 'u_to_v', 'sign_u_w']]\n",
    "new_X = pd.concat([X_add, add_df], axis=1)\n",
    "new_X = new_X[pd.notnull(new_X[0])]\n",
    "new_X[np.isnan(new_X)] = 0\n",
    "new_X.shape"
   ]
  },
  {
   "cell_type": "code",
   "execution_count": 14,
   "metadata": {},
   "outputs": [
    {
     "name": "stdout",
     "output_type": "stream",
     "text": [
      "accuracy 0.5753424657534246\n",
      "              precision    recall  f1-score   support\n",
      "\n",
      "    Material       0.65      0.55      0.59        20\n",
      "    Capacity       0.56      0.63      0.59        30\n",
      "      Design       0.55      0.52      0.53        23\n",
      "\n",
      "   micro avg       0.58      0.58      0.58        73\n",
      "   macro avg       0.58      0.57      0.57        73\n",
      "weighted avg       0.58      0.58      0.57        73\n",
      "\n"
     ]
    },
    {
     "name": "stderr",
     "output_type": "stream",
     "text": [
      "C:\\Users\\hktse\\Anaconda3\\lib\\site-packages\\sklearn\\linear_model\\logistic.py:460: FutureWarning: Default multi_class will be changed to 'auto' in 0.22. Specify the multi_class option to silence this warning.\n",
      "  \"this warning.\", FutureWarning)\n"
     ]
    }
   ],
   "source": [
    "y = new_df.transfer\n",
    "\n",
    "X_train, X_test, y_train, y_test = train_test_split(new_X, y, test_size=0.25, random_state = 42)\n",
    "\n",
    "\n",
    "from sklearn.linear_model import LogisticRegression\n",
    "\n",
    "logreg = LogisticRegression(n_jobs=1, C=1e5)\n",
    "logreg.fit(X_train, y_train)\n",
    "\n",
    "y_pred = logreg.predict(X_test)\n",
    "\n",
    "print('accuracy %s' % accuracy_score(y_pred, y_test))\n",
    "print(classification_report(y_test, y_pred,target_names=my_tags))"
   ]
  },
  {
   "cell_type": "code",
   "execution_count": 15,
   "metadata": {},
   "outputs": [],
   "source": [
    "from tqdm import tqdm\n",
    "tqdm.pandas(desc=\"progress-bar\")\n",
    "from gensim.models import Doc2Vec\n",
    "from sklearn import utils\n",
    "import gensim\n",
    "from gensim.models.doc2vec import TaggedDocument\n",
    "import re\n",
    "\n",
    "def label_sentences(corpus, label_type):\n",
    "    \"\"\"\n",
    "    Gensim's Doc2Vec implementation requires each document/paragraph to have a label associated with it.\n",
    "    We do this by using the TaggedDocument method. The format will be \"TRAIN_i\" or \"TEST_i\" where \"i\" is\n",
    "    a dummy index of the post.\n",
    "    \"\"\"\n",
    "    labeled = []\n",
    "    for i, v in enumerate(corpus):\n",
    "        label = label_type + '_' + str(i)\n",
    "        labeled.append(gensim.models.doc2vec.TaggedDocument(v.split(), [label]))\n",
    "    return labeled\n",
    "X_train, X_test, y_train, y_test = train_test_split(df.note, df.transfer, random_state=0, test_size=0.4)\n",
    "X_train = label_sentences(X_train, 'Train')\n",
    "X_test = label_sentences(X_test, 'Test')\n",
    "all_data = X_train + X_test"
   ]
  },
  {
   "cell_type": "code",
   "execution_count": 16,
   "metadata": {},
   "outputs": [
    {
     "data": {
      "text/plain": [
       "[TaggedDocument(words=['primus', 'uses', 'modified', 'armoured', 'hull', 'proven', 'united', 'defence', 'bae', 'systems', 'm109', '155mm', 'self', 'propelled', 'howitzer', 'fully', 'enclosed', 'turret', 'mounted', 'customised', 'aluminium', 'chassis', 'primus', 'powered', 'detroit', 'diesel', '6v92ta', 'diesel', 'engine', 'coupled', 'hmpt5003ec', 'fully', 'automatic', 'transmission', 'engine', 'develops', 'power', '550hp'], tags=['Train_0']),\n",
       " TaggedDocument(words=['taiwan', 'sought', 'purchase', 'american', 'aegis', 'advanced', 'combat', 'system', 'effort', 'boost', 'sea', 'defenses', 'mainland', 'developed', 'plans', 'buy', 'many', 'four', 'aegis', 'destroyers', 'taiwan', 'regards', 'acs', 'system', 'board', 'aegisguided', 'missile', 'destroyer', 'standard', 'navy', '21st', 'century', 'approved', 'ship', 'known', 'acs', 'ship', 'tien', 'tan', 'altar', 'heaven', 'would', 'commissioned', '2008', 'earliest', 'navy', 'intended', 'upgrade', 'eighth', 'cheng', 'kungclass', 'missile', 'frigate', 'tien', 'tan', 'aegisclass', 'equipping', 'aegisclass', 'weaponry', 'systems', 'taiwan', 'navy', 'pfg2', 'class', 'frigates', 'variant', 'us', 'navy', 'perry', 'ffg', '7', 'class', 'included', 'incorporation', 'unique', 'taiwan', 'weapons', 'ship', 'systems', 'class', 'upgrade', 'class', 'developed', 'incorporating', 'lockheed', 'martin', 'spy1f', 'phased', 'array', 'radar', 'vertical', 'launch', 'system', 'antiair', 'warfare', 'features', 'well', 'signature', 'improvements', '1992', 'united', 'states', 'offered', 'scaledback', 'version', 'aegis', 'system', 'installation', 'taiwans', 'perryclass', 'frigates', 'taiwan', 'evaluated', 'possibility', 'building', 'two', 'chen', 'kungclass', 'warships', 'equipped', 'miniaegis', 'systems', 'chen', 'kung', 'small', 'system', 'performance', 'miniaegis', 'might', 'prove', 'substandard', 'program', 'finally', 'suspended', 'due', 'cost', 'technical', 'risk', 'involved'], tags=['Train_1'])]"
      ]
     },
     "execution_count": 16,
     "metadata": {},
     "output_type": "execute_result"
    }
   ],
   "source": [
    "all_data[:2]"
   ]
  },
  {
   "cell_type": "code",
   "execution_count": 30,
   "metadata": {},
   "outputs": [
    {
     "name": "stderr",
     "output_type": "stream",
     "text": [
      "C:\\Users\\hktse\\Anaconda3\\lib\\site-packages\\gensim\\models\\base_any2vec.py:743: UserWarning: C extension not loaded, training will be slow. Install a C compiler and reinstall gensim for fast training.\n",
      "  \"C extension not loaded, training will be slow. \"\n",
      "100%|████████████████████████████████████████████████████████████████████████████████████████| 289/289 [00:00<?, ?it/s]\n",
      "100%|████████████████████████████████████████████████████████████████████████████████████████| 289/289 [00:00<?, ?it/s]\n",
      "100%|████████████████████████████████████████████████████████████████████████████████████████| 289/289 [00:00<?, ?it/s]\n",
      "100%|████████████████████████████████████████████████████████████████████████████████████████| 289/289 [00:00<?, ?it/s]\n",
      "100%|████████████████████████████████████████████████████████████████████████████████████████| 289/289 [00:00<?, ?it/s]\n",
      "100%|████████████████████████████████████████████████████████████████████████████████████████| 289/289 [00:00<?, ?it/s]\n",
      "100%|████████████████████████████████████████████████████████████████████████████| 289/289 [00:00<00:00, 278784.24it/s]\n",
      "100%|█████████████████████████████████████████████████████████████████████████████| 289/289 [00:00<00:00, 18498.82it/s]\n",
      "100%|████████████████████████████████████████████████████████████████████████████████████████| 289/289 [00:00<?, ?it/s]\n",
      "100%|████████████████████████████████████████████████████████████████████████████████████████| 289/289 [00:00<?, ?it/s]\n",
      "100%|████████████████████████████████████████████████████████████████████████████████████████| 289/289 [00:00<?, ?it/s]\n",
      "100%|████████████████████████████████████████████████████████████████████████████████████████| 289/289 [00:00<?, ?it/s]\n",
      "100%|████████████████████████████████████████████████████████████████████████████████████████| 289/289 [00:00<?, ?it/s]\n",
      "100%|████████████████████████████████████████████████████████████████████████████████████████| 289/289 [00:00<?, ?it/s]\n",
      "100%|████████████████████████████████████████████████████████████████████████████████████████| 289/289 [00:00<?, ?it/s]\n",
      "100%|████████████████████████████████████████████████████████████████████████████████████████| 289/289 [00:00<?, ?it/s]\n",
      "100%|████████████████████████████████████████████████████████████████████████████████████████| 289/289 [00:00<?, ?it/s]\n",
      "100%|████████████████████████████████████████████████████████████████████████████████████████| 289/289 [00:00<?, ?it/s]\n",
      "100%|████████████████████████████████████████████████████████████████████████████████████████| 289/289 [00:00<?, ?it/s]\n",
      "100%|████████████████████████████████████████████████████████████████████████████████████████| 289/289 [00:00<?, ?it/s]\n",
      "100%|████████████████████████████████████████████████████████████████████████████████████████| 289/289 [00:00<?, ?it/s]\n"
     ]
    }
   ],
   "source": [
    "model_dbow = Doc2Vec(dm=0, vector_size=100, negative=5, min_count=5, alpha=0.05, min_alpha=0.05)\n",
    "model_dbow.build_vocab([x for x in tqdm(all_data)])\n",
    "\n",
    "for epoch in range(20):\n",
    "    model_dbow.train(utils.shuffle([x for x in tqdm(all_data)]), total_examples=len(all_data), epochs=1)\n",
    "    model_dbow.alpha -= 0.002\n",
    "    model_dbow.min_alpha = model_dbow.alpha"
   ]
  },
  {
   "cell_type": "code",
   "execution_count": 31,
   "metadata": {},
   "outputs": [],
   "source": [
    "def get_vectors(model, corpus_size, vectors_size, vectors_type):\n",
    "    \"\"\"\n",
    "    Get vectors from trained doc2vec model\n",
    "    :param doc2vec_model: Trained Doc2Vec model\n",
    "    :param corpus_size: Size of the data\n",
    "    :param vectors_size: Size of the embedding vectors\n",
    "    :param vectors_type: Training or Testing vectors\n",
    "    :return: list of vectors\n",
    "    \"\"\"\n",
    "    vectors = np.zeros((corpus_size, vectors_size))\n",
    "    for i in range(0, corpus_size):\n",
    "        prefix = vectors_type + '_' + str(i)\n",
    "        vectors[i] = model.docvecs[prefix]\n",
    "    return vectors\n",
    "    \n",
    "train_vectors_dbow = get_vectors(model_dbow, len(X_train), 100, 'Train')\n",
    "test_vectors_dbow = get_vectors(model_dbow, len(X_test), 100, 'Test')"
   ]
  },
  {
   "cell_type": "code",
   "execution_count": 32,
   "metadata": {},
   "outputs": [
    {
     "name": "stderr",
     "output_type": "stream",
     "text": [
      "C:\\Users\\hktse\\Anaconda3\\lib\\site-packages\\sklearn\\linear_model\\logistic.py:433: FutureWarning: Default solver will be changed to 'lbfgs' in 0.22. Specify a solver to silence this warning.\n",
      "  FutureWarning)\n",
      "C:\\Users\\hktse\\Anaconda3\\lib\\site-packages\\sklearn\\linear_model\\logistic.py:460: FutureWarning: Default multi_class will be changed to 'auto' in 0.22. Specify the multi_class option to silence this warning.\n",
      "  \"this warning.\", FutureWarning)\n",
      "C:\\Users\\hktse\\Anaconda3\\lib\\site-packages\\sklearn\\linear_model\\logistic.py:433: FutureWarning: Default solver will be changed to 'lbfgs' in 0.22. Specify a solver to silence this warning.\n",
      "  FutureWarning)\n",
      "C:\\Users\\hktse\\Anaconda3\\lib\\site-packages\\sklearn\\linear_model\\logistic.py:460: FutureWarning: Default multi_class will be changed to 'auto' in 0.22. Specify the multi_class option to silence this warning.\n",
      "  \"this warning.\", FutureWarning)\n"
     ]
    },
    {
     "name": "stdout",
     "output_type": "stream",
     "text": [
      "accuracy 0.5258620689655172\n",
      "              precision    recall  f1-score   support\n",
      "\n",
      "    Material       0.59      0.71      0.64        38\n",
      "    Capacity       0.56      0.43      0.49        46\n",
      "      Design       0.41      0.44      0.42        32\n",
      "\n",
      "   micro avg       0.53      0.53      0.53       116\n",
      "   macro avg       0.52      0.53      0.52       116\n",
      "weighted avg       0.53      0.53      0.52       116\n",
      "\n"
     ]
    }
   ],
   "source": [
    "logreg = LogisticRegression(n_jobs=1, C=1e5)\n",
    "logreg.fit(train_vectors_dbow, y_train)\n",
    "logreg = logreg.fit(train_vectors_dbow, y_train)\n",
    "y_pred = logreg.predict(test_vectors_dbow)\n",
    "print('accuracy %s' % accuracy_score(y_pred, y_test))\n",
    "print(classification_report(y_test, y_pred,target_names=my_tags))"
   ]
  },
  {
   "cell_type": "code",
   "execution_count": null,
   "metadata": {},
   "outputs": [],
   "source": []
  }
 ],
 "metadata": {
  "kernelspec": {
   "display_name": "Python 3",
   "language": "python",
   "name": "python3"
  },
  "language_info": {
   "codemirror_mode": {
    "name": "ipython",
    "version": 3
   },
   "file_extension": ".py",
   "mimetype": "text/x-python",
   "name": "python",
   "nbconvert_exporter": "python",
   "pygments_lexer": "ipython3",
   "version": "3.7.3"
  }
 },
 "nbformat": 4,
 "nbformat_minor": 2
}
